{
  "cells": [
    {
      "cell_type": "markdown",
      "source": [
        "# Discrete spatial models in BioSimulator.jl"
      ],
      "metadata": {}
    },
    {
      "outputs": [],
      "cell_type": "code",
      "source": [
        "# TODO: installation script\nfunction generate_random_2Dpoints(xlim, ylim, saturation; boundary = false)\n    area = (xlim[2] - xlim[1] + 1) * (ylim[2] - ylim[1] + 1)\n    n = Int(ceil(area * saturation))\n\n    list = Tuple{Int,Int}[]\n    xrange = xlim[1]:xlim[2]\n    yrange = ylim[1]:ylim[2]\n\n    while length(list) < n\n        point = (rand(xrange), rand(yrange))\n        point ∉ list && push!(list, point)\n    end\n\n    if boundary\n        for x in xrange\n            push!(list, (x, ylim[1]-1))\n            push!(list, (x, ylim[2]+1))\n        end\n\n        for y in yrange\n            push!(list, (xlim[1]-1, y))\n            push!(list, (xlim[2]+1, y))\n        end\n    end\n\n    m = boundary ? 2*(xlim[2] - xlim[1] + 1) + 2*(ylim[2] - ylim[1] + 1) : 0\n\n    points = zeros(Int, 2, n + m)\n    for i in eachindex(list)\n        points[1, i] = list[i][1]\n        points[2, i] = list[i][2]\n    end\n\n    return points\nend"
      ],
      "metadata": {},
      "execution_count": null
    },
    {
      "outputs": [],
      "cell_type": "code",
      "source": [
        "using BioSimulator"
      ],
      "metadata": {},
      "execution_count": null
    },
    {
      "cell_type": "markdown",
      "source": [
        "## Model specification\n\n### Base model"
      ],
      "metadata": {}
    },
    {
      "outputs": [],
      "cell_type": "code",
      "source": [
        "base_model = @def_reactions begin\n    Fox + 0 --> 0 + Fox, α1\n    Rabbit + 0 --> 0 + Rabbit, α2\n    Rabbit + 0 --> Rabbit + Rabbit, β\n    Fox + Rabbit --> Fox + Fox, γ\n    Rabbit --> 0, δ1\n    Fox --> 0, δ2\nend α1 α2 β γ δ1 δ2"
      ],
      "metadata": {},
      "execution_count": null
    },
    {
      "cell_type": "markdown",
      "source": [
        "### Adding lattice topology"
      ],
      "metadata": {}
    },
    {
      "outputs": [],
      "cell_type": "code",
      "source": [
        "α1 = 1.0\nα2 = 1.0\nβ = 2.0\nγ = 1.5\nδ1 = 1.0\nδ2 = 0.5\n\nparams = [α1, α2, β, γ, δ1, δ2]\n\nmodel = @enumerate_with_sclass base_model VonNeumann() 2 params"
      ],
      "metadata": {},
      "execution_count": null
    },
    {
      "cell_type": "markdown",
      "source": [
        "### Setting up initial conditions"
      ],
      "metadata": {}
    },
    {
      "outputs": [],
      "cell_type": "code",
      "source": [
        "coord = generate_random_2Dpoints((1,100), (1,100), 0.2)\ntypes = rand([\"Fox\", \"Rabbit\"], size(coord, 2))\nstate = Lattice(coord, types, nbhood = VonNeumann(), type_list = Dict(1 => \"Fox\", 2 => \"Rabbit\"))\n\nusing Plots\ngr(markersize = 2)\n\nplot(Configuration(state))"
      ],
      "metadata": {},
      "execution_count": null
    },
    {
      "cell_type": "markdown",
      "source": [
        "### Simulation"
      ],
      "metadata": {}
    },
    {
      "outputs": [],
      "cell_type": "code",
      "source": [
        "algorithm = Direct()\ntfinal = 10.0\n\ntrajectory = @time simulate(state, model, algorithm, tfinal = tfinal, save_points = 0:0.125:tfinal)\n\n@gif for configuration in trajectory\n    plot(configuration, xlim = (-100, 200), ylim = (-100, 200), markersize = 1, legend = false)\nend"
      ],
      "metadata": {},
      "execution_count": null
    },
    {
      "cell_type": "markdown",
      "source": [
        "### Adding boundaries"
      ],
      "metadata": {}
    },
    {
      "outputs": [],
      "cell_type": "code",
      "source": [
        "base_model = @def_reactions begin\n    Fox + 0 --> 0 + Fox, α1\n    Rabbit + 0 --> 0 + Rabbit, α2\n    Rabbit + 0 --> Rabbit + Rabbit, β\n    Fox + Rabbit --> Fox + Fox, γ\n    Rabbit --> 0, δ1\n    Fox --> 0, δ2\n    X --> 0, not_used\nend α1 α2 β γ δ1 δ2 not_used"
      ],
      "metadata": {},
      "execution_count": null
    },
    {
      "outputs": [],
      "cell_type": "code",
      "source": [
        "params = [α1, α2, β, γ, δ1, δ2, 0.0]\n\nmodel = @enumerate_with_sclass base_model VonNeumann() 2 params"
      ],
      "metadata": {},
      "execution_count": null
    },
    {
      "outputs": [],
      "cell_type": "code",
      "source": [
        "coord = generate_random_2Dpoints((1,100), (1,100), 0.2, boundary = true)\ntypes = rand([\"Fox\", \"Rabbit\"], size(coord, 2) - 4*100)\ntypes = [types; [\"X\" for _ in 1:400]]\nstate = Lattice(coord, types, nbhood = VonNeumann(), type_list = Dict(1 => \"Fox\", 2 => \"Rabbit\", 3 => \"X\"))\n\nusing Plots\ngr(markersize = 2)\n\nplot(Configuration(state))"
      ],
      "metadata": {},
      "execution_count": null
    },
    {
      "outputs": [],
      "cell_type": "code",
      "source": [
        "algorithm = Direct()\ntfinal = 40.0\n\ntrajectory = @time simulate(state, model, algorithm, tfinal = tfinal, save_points = 0:0.125:tfinal)\n\n@gif for configuration in trajectory\n    plot(configuration, xlim = (-1, 102), ylim = (-1, 102), markersize = 1.25, legend = false)\nend every 2"
      ],
      "metadata": {},
      "execution_count": null
    },
    {
      "outputs": [],
      "cell_type": "code",
      "source": [
        "population = zeros(Int, length(trajectory), 2)\n\nfor (i, config) in enumerate(trajectory)\n    # count foxes\n    population[i, 1] = count(isequal(2), config.tcode)\n\n    # count rabbits\n    population[i, 2] = count(isequal(3), config.tcode)\nend\n\nplot(trajectory.t, population, xlabel = \"time (A.U.)\", ylabel = \"count\", label = [\"fox\" \"rabbit\"])"
      ],
      "metadata": {},
      "execution_count": null
    }
  ],
  "nbformat_minor": 2,
  "metadata": {
    "language_info": {
      "file_extension": ".jl",
      "mimetype": "application/julia",
      "name": "julia",
      "version": "1.3.0"
    },
    "kernelspec": {
      "name": "julia-1.3",
      "display_name": "Julia 1.3.0",
      "language": "julia"
    }
  },
  "nbformat": 4
}
