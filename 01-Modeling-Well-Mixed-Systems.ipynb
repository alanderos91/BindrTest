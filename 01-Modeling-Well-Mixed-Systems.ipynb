version https://git-lfs.github.com/spec/v1
oid sha256:33db7645b2bdcc5aadd77cdc57a73267dd06b607b1225b229548c4a49fffaf05
size 25755
