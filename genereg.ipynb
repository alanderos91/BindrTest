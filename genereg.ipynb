{
  "cells": [
    {
      "cell_type": "markdown",
      "metadata": {},
      "source": [
        "# Modeling gene regulation with BioSimulator.jl"
      ]
    },
    {
      "cell_type": "code",
      "execution_count": null,
      "metadata": {},
      "outputs": [],
      "source": [
        "# TODO: run the installation script once\n# using Pkg\n#\n# bundle = [\n#     PackageSpec(\n#         name = \"BioSimulator\",\n#         url = \"https://github.com/alanderos/BioSimulator.jl\",\n#         rev = \"0dcc836eb88f987b88c34551fd56301366c4ce0c\"),\n#     PackageSpec(name = \"Plots\"),\n#     PackageSpec(name = \"DataFrames\")\n# ]\n#\n# Pkg.add(bundle)"
      ]
    },
    {
      "cell_type": "code",
      "execution_count": null,
      "metadata": {},
      "outputs": [],
      "source": [
        "using BioSimulator"
      ]
    },
    {
      "cell_type": "markdown",
      "metadata": {},
      "source": [
        "## Example 1: Negative auto-regulation\n\nThis example introduces the interface and basic features of BioSimulator.jl.\nWe will work with a model of gene regulation in prokaryotes taken from the text:\n\n> Wilkinson, D. J. (2006) *Stochastic Modelling for Systems Biology*.\n> 1st ed., Chapman & Hall / CRC, Boca Raton, FL.\n\nHere dimers of a protein coded by a gene repress their own transcription by binding a regulatory region lying between the gene and its promoter.\nThe flow of information can be summarized by $8$ biochemical reactions involving $5$ species:\n\n$$\n\\begin{eqnarray*}\n\\mathrm{gene_{on}} + P_{2} &\\iff& \\mathrm{gene_{off}} & \\text{binding/unbinding} \\\\\n\\mathrm{gene_{on}} &\\longrightarrow& \\mathrm{gene} + \\mathrm{RNA} & \\text{transcription} \\\\\n\\mathrm{RNA} &\\longrightarrow& \\mathrm{RNA} + P & \\text{translation} \\\\\nP + P &\\longrightarrow& P_{2} & \\text{dimerization/dissociaton} \\\\\n\\mathrm{RNA} &\\longrightarrow& \\emptyset & \\text{mRNA degradation} \\\\\n\\mathrm{P} &\\longrightarrow& \\emptyset & \\text{protein degradation}\n\\end{eqnarray*}\n$$\n\nThis simplified description adequately captures the interesting features of regulatory networks.\n\n### Model specification\n\nThe `Network` object is the workhorse for discrete, spatial-free models in BioSimulator.\nIt collects coupled `Reaction` objects that describe interactions between `Species`.\nThis example emphasizes biochemical reactions in gene networks, but the software applies to general population dynamics that can be described by continuous-time Markov processes."
      ]
    },
    {
      "cell_type": "code",
      "execution_count": null,
      "metadata": {},
      "outputs": [],
      "source": [
        "function negautoreg(;\n    x = [1, 0, 0, 0, 0],\n    k = [1.0, 10.0, 0.01, 10.0, 1.0, 1.0, 0.1, 0.01]\n)\n    # initialize model\n    m = Network(\"negative auto-regulation\")\n\n    # species definitions\n    m <= Species(\"gene_on\", x[1])\n    m <= Species(\"gene_off\", x[2])\n    m <= Species(\"RNA\", x[3])\n    m <= Species(\"P\", x[4])\n    m <= Species(\"P2\", x[5])\n\n    # reaction definitions\n    m <= Reaction(\"binding\", k[1], \"gene_on + P2 --> gene_off\")\n    m <= Reaction(\"unbinding\", k[2], \"gene_off --> gene_on + P2\")\n    m <= Reaction(\"transcription\", k[3], \"gene_on --> gene_on + RNA\")\n    m <= Reaction(\"translation\", k[4], \"RNA --> RNA + P\")\n    m <= Reaction(\"dimerization\", k[5], \"P + P --> P2\")\n    m <= Reaction(\"dissociation\", k[6], \"P2 --> P + P\")\n    m <= Reaction(\"RNA degradation\", k[7], \"RNA --> 0\")\n    m <= Reaction(\"protein degradation\", k[8], \"P --> 0\")\n\n    return m\nend"
      ]
    },
    {
      "cell_type": "markdown",
      "metadata": {},
      "source": [
        "### Simulation"
      ]
    },
    {
      "cell_type": "code",
      "execution_count": null,
      "metadata": {},
      "outputs": [],
      "source": [
        "network = negautoreg(x = [10, 0, 0, 0, 0])\nstate, model = parse_model(network)"
      ]
    },
    {
      "cell_type": "code",
      "execution_count": null,
      "metadata": {},
      "outputs": [],
      "source": [
        "# simulation settings\ntfinal = 500.0\nalgorithm = SortingDirect()\nntrials = 10^3\nsave_pts = 0:5:tfinal\n\n# generate a single realization\nprint(\"warm-up: \")\ntrajectory = @time simulate(state, model, algorithm, tfinal = tfinal)\n\nprint(\"compute time: \")\ntrajectory = @time simulate(state, model, algorithm, tfinal = tfinal)\nprintln(\"number of event in a single trajectory: \", length(trajectory))\n\n# generate an ensemble\nensemble = [simulate(state, model, algorithm,\n    tfinal = tfinal,\n    save_points = save_pts) for _ in 1:ntrials];"
      ]
    },
    {
      "cell_type": "markdown",
      "metadata": {},
      "source": [
        "### Handling simulation data\n\n#### Working with output directly\n\nThe output of a single simulation is a `SamplePath` object.\nIt is a *recursive array* (thanks to RecursiveArrayTools.jl) that represents the state of a process $X_{t_{k}}$ at each time point $t_{k}$.\n\nRecall the ordering ($\\mathrm{gene_{on}$, $\\mathrm{gene_{off}}$, $\\mathrm{RNA}$, $P$, and $P_{2}$).\n\nAccess the $k$-th recorded state its index:"
      ]
    },
    {
      "cell_type": "code",
      "execution_count": null,
      "metadata": {},
      "outputs": [],
      "source": [
        "trajectory[1], trajectory[100], trajectory[end]"
      ]
    },
    {
      "cell_type": "markdown",
      "metadata": {},
      "source": [
        "This convention is important for two reasons:\n\n1. passing a range always returns a `SamplePath`, and\n2. iterating over a `SamplePath` returns data at each time point.\n\nAs an example, consider the following code:"
      ]
    },
    {
      "cell_type": "code",
      "execution_count": null,
      "metadata": {},
      "outputs": [],
      "source": [
        "for X in trajectory[1:10]\n    @show X\nend"
      ]
    },
    {
      "cell_type": "markdown",
      "metadata": {},
      "source": [
        "Select the 4th component (protein monomer) at the 100th time point:"
      ]
    },
    {
      "cell_type": "code",
      "execution_count": null,
      "metadata": {},
      "outputs": [],
      "source": [
        "trajectory[4, 100]"
      ]
    },
    {
      "cell_type": "markdown",
      "metadata": {},
      "source": [
        "Select the entire history for the protein monomer and dimer compartments:"
      ]
    },
    {
      "cell_type": "code",
      "execution_count": null,
      "metadata": {},
      "outputs": [],
      "source": [
        "trajectory[[4,5], :]"
      ]
    },
    {
      "cell_type": "markdown",
      "metadata": {},
      "source": [
        "Retrieve the data for $t_{k}$:"
      ]
    },
    {
      "cell_type": "code",
      "execution_count": null,
      "metadata": {},
      "outputs": [],
      "source": [
        "trajectory.t"
      ]
    },
    {
      "cell_type": "markdown",
      "metadata": {},
      "source": [
        "The general syntax is `trajectory[compartment_indices, timepoint_indices]` where either index set can be a scalar, list, or range.\n\nAn `Ensemble` is simply an alias for `Vector{SamplePath{...}}`.\nIndexing a particular realization of a process works in the \"obvious\" way.\n\nRetrieve the data for the 100th realization:"
      ]
    },
    {
      "cell_type": "code",
      "execution_count": null,
      "metadata": {},
      "outputs": [],
      "source": [
        "ensemble[100]"
      ]
    },
    {
      "cell_type": "markdown",
      "metadata": {},
      "source": [
        "Access data for the mRNA compartment in the 100th realization:"
      ]
    },
    {
      "cell_type": "code",
      "execution_count": null,
      "metadata": {},
      "outputs": [],
      "source": [
        "ensemble[100][3, :]"
      ]
    },
    {
      "cell_type": "markdown",
      "metadata": {},
      "source": [
        "Compute summary statistics:"
      ]
    },
    {
      "cell_type": "code",
      "execution_count": null,
      "metadata": {},
      "outputs": [],
      "source": [
        "using Statistics\n\nmean(ensemble)"
      ]
    },
    {
      "cell_type": "markdown",
      "metadata": {},
      "source": [
        "#### Passing to `DataFrame` objects\n\nBoth `SamplePath` and `Ensemble` objects are compatible with the DataFrames.jl ecosystem in Julia.\n\nConvert a `SamplePath` into a `DataFrame`.\nThe first column is always `t` and represents model time.\nThe remaining columns are labeled `X1, X2, ...` and appear in the same order as defined in the original `Network` object."
      ]
    },
    {
      "cell_type": "code",
      "execution_count": null,
      "metadata": {},
      "outputs": [],
      "source": [
        "import BioSimulator: tablefy # conversion sometimes gives the wrong layout depending on the DataFrames version\nusing DataFrames\n\n# create the DataFrame\ndf = DataFrame(tablefy(trajectory))\n\n# change the column labels\nrename!(df, [:time, :gene_on, :gene_off, :mRNA, :monomer, :dimer])\n\n# select the last 10 records\nlast(df, 10)"
      ]
    },
    {
      "cell_type": "markdown",
      "metadata": {},
      "source": [
        "#### Plotting `SamplePath` data\n\nA `SamplePath` object is fully compatible with the Plots.jl ecosystem, meaning the command `plot(trajectory)` just works.\nLoad the Plots package and select the GR backend:"
      ]
    },
    {
      "cell_type": "code",
      "execution_count": null,
      "metadata": {},
      "outputs": [],
      "source": [
        "using Plots\ngr(grid = false) # you can set default options for the plotting backend\n\nplot(trajectory)"
      ]
    },
    {
      "cell_type": "markdown",
      "metadata": {},
      "source": [
        "Unfortunately, this is not terribly useful yet.\nThe axes are not labeled and it is not clear what each trajectory represents.\nFortunately, we can fix these issues using the keyword arguments to the `plot` function."
      ]
    },
    {
      "cell_type": "code",
      "execution_count": null,
      "metadata": {},
      "outputs": [],
      "source": [
        "# The piping operator |> can be used to chain function calls.\n# This is equivalent to collect(keys(species_list(network))).\n# The reshape command is needed because Plots treats each column as a series.\ntemp = species_list(network) |> keys |> collect\nspecies_labels = reshape(temp, 1, length(temp))\n\nplot(trajectory,\n    xlabel = \"time (A.U.)\",\n    ylabel = \"counts\",\n    label = species_labels)"
      ]
    },
    {
      "cell_type": "markdown",
      "metadata": {},
      "source": [
        "Next we need to fix crowding.\nWe have a couple of choices for presenting the trajectories.\n\n##### Option 1: Split each species into separate subfigures"
      ]
    },
    {
      "cell_type": "code",
      "execution_count": null,
      "metadata": {},
      "outputs": [],
      "source": [
        "plot(trajectory,\n    xlabel = \"time (A.U.)\",\n    ylabel = \"counts\",\n    title = species_labels,\n    layout = grid(5, 1),\n    size = (800,600),\n    legend = false)"
      ]
    },
    {
      "cell_type": "markdown",
      "metadata": {},
      "source": [
        "##### Options 2: Group species into panels"
      ]
    },
    {
      "cell_type": "code",
      "execution_count": null,
      "metadata": {},
      "outputs": [],
      "source": [
        "panelA = plot(trajectory,\n    title = species_labels,\n    vars = (1,2,3),\n    layout = grid(3, 1),\n    legend = false)\n\npanelB = plot(trajectory,\n    vars = (4,5), title = \"protein\", label = [\"monomer\" \"dimer\"], legend = :right)\n\nplot(panelA, panelB,\n    xlabel = \"time (A.U.)\",\n    ylabel = \"counts\",\n    layout = @layout [a{0.35w} a{0.65w}])"
      ]
    },
    {
      "cell_type": "markdown",
      "metadata": {},
      "source": [
        "#### Plotting `Ensemble` data\n\n##### Summary statistics"
      ]
    },
    {
      "cell_type": "code",
      "execution_count": null,
      "metadata": {},
      "outputs": [],
      "source": [
        "panelA = plot(ensemble,\n    vars = (1,2),\n    title = \"gene\",\n    ylabel = \"average count\",\n    label = [\"ON\" \"OFF\"])\n\npanelB = plot(ensemble, summary = :mean,\n    vars = 3,\n    title = \"mRNA\",\n    ylabel = \"average count\",\n    legend = false)\n\npanelC = plot(ensemble,\n    vars = (4,5),\n    title = \"protein\",\n    ylabel = \"average count\",\n    label = [\"monomer\" \"dimer\"])\n\nplot(panelA, panelB, panelC,\n    layout = grid(3, 1),\n    size = (500, 600))"
      ]
    },
    {
      "cell_type": "markdown",
      "metadata": {},
      "source": [
        "##### Distributions"
      ]
    },
    {
      "cell_type": "code",
      "execution_count": null,
      "metadata": {},
      "outputs": [],
      "source": [
        "plot(ensemble, summary = :histogram,\n    vars = 3, timepoint = 250.0, legend = false, title = \"mRNA @ t = 250\")"
      ]
    },
    {
      "cell_type": "code",
      "execution_count": null,
      "metadata": {},
      "outputs": [],
      "source": [
        "animation = @animate for t in save_pts[2:end]\n    figA = plot(ensemble, summary = :histogram, timepoint = t,\n        vars = 3,\n        title = \"mRNA @ t = $(t)\",\n        xlims = (0, 2),\n        ylims = (0, 1),\n        normalize = :probability)\n\n    figB = plot(ensemble, summary = :histogram, timepoint = t,\n        vars = 4,\n        title = \"monomer\",\n        xlims = (0, 60),\n        ylims = (0, 0.2),\n        normalize = :probability)\n\n    figC = plot(ensemble, summary = :histogram, timepoint = t,\n        vars = 5,\n        title = \"dimer\",\n        xlims = (0, 1000),\n        ylims = (0, 0.3),\n        normalize = :probability)\n\n    plot(figA, figB, figC, layout = grid(1, 3), legend = false, ylabel = \"probability\", xlabel = \"count\")\nend\n\ngif(animation, fps = 10)"
      ]
    },
    {
      "cell_type": "markdown",
      "metadata": {},
      "source": [
        "##### Phase plots"
      ]
    },
    {
      "cell_type": "code",
      "execution_count": null,
      "metadata": {},
      "outputs": [],
      "source": [
        "plot(ensemble, summary = :phase,\n    vars = (4, 5),\n    xlabel = \"monomer\",\n    ylabel = \"dimer\",\n    colorbar = true,\n    colorbar_title = \"time\")"
      ]
    },
    {
      "cell_type": "markdown",
      "metadata": {},
      "source": [
        "## Exercises\n\n### Example: First-passage problems"
      ]
    },
    {
      "cell_type": "code",
      "execution_count": null,
      "metadata": {},
      "outputs": [],
      "source": [
        "simdata = [simulate(state, model, algorithm, tfinal = 100.0) for _ in 1:100]\n\nhitting_time = zeros(length(simdata))\n\nfor i in eachindex(simdata)\n    # retrieve the data for realization i\n    xw = simdata[i]\n\n    # find the index k such that all genes are blocked\n    k = findfirst(isequal(0), xw[1, :])\n\n    # record the hitting time\n    hitting_time[i] = k == nothing ? Inf : xw.t[k]\nend\n\nmean(hitting_time), std(hitting_time)"
      ]
    },
    {
      "cell_type": "markdown",
      "metadata": {},
      "source": [
        "Compute the probability $\\Pr(X_{4}(t) > 20)$ at $t = 25$ using the estimator\n$$\n\\sum_{n} 1\\left{X_{4}^{(n)}(t) > 20 \\right}\n$$"
      ]
    },
    {
      "cell_type": "code",
      "execution_count": null,
      "metadata": {},
      "outputs": [],
      "source": [
        "simdata = [simulate(state, model, algorithm, tfinal = 26.0, save_points = [0.0, 25.0]) for _ in 1:5*10^3]\n\nindicator = zeros(length(simdata))\n\nfor i in eachindex(simdata)\n    # retrieve the data for realization i\n    xw = simdata[i]\n\n    # record the hitting time\n    indicator[i] = xw[4, end] > 20\nend\n\nmean(indicator), std(indicator)"
      ]
    }
  ],
  "nbformat_minor": 2,
  "metadata": {
    "language_info": {
      "file_extension": ".jl",
      "mimetype": "application/julia",
      "name": "julia",
      "version": "1.3.0"
    },
    "kernelspec": {
      "name": "julia-1.3",
      "display_name": "Julia 1.3.0",
      "language": "julia"
    }
  },
  "nbformat": 4
}